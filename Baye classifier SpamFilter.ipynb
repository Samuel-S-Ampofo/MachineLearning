{
 "cells": [
  {
   "cell_type": "code",
   "execution_count": 524,
   "metadata": {},
   "outputs": [],
   "source": [
    "# calssification \n",
    "# Naive base claissifer\n",
    "#compare two probabilities\n",
    "# get code to talk to operating system.\n"
   ]
  },
  {
   "cell_type": "markdown",
   "metadata": {},
   "source": [
    "# Notebook Imports"
   ]
  },
  {
   "cell_type": "code",
   "execution_count": 560,
   "metadata": {},
   "outputs": [],
   "source": [
    "from os import walk\n",
    "from os.path import join\n",
    "import pandas as pd\n",
    "import matplotlib.pyplot as plt\n",
    "\n",
    "%matplotlib inline"
   ]
  },
  {
   "cell_type": "markdown",
   "metadata": {},
   "source": [
    "# Constants"
   ]
  },
  {
   "cell_type": "code",
   "execution_count": 526,
   "metadata": {},
   "outputs": [],
   "source": [
    "EXAMPLE_FILE = 'SpamData/01_Processing/practice_email.txt'\n",
    "HAM_1_PATH =  'SpamData/01_Processing/spam_assassin_corpus/easy_ham_1'\n",
    "HAM_2_PATH = 'SpamData/01_Processing/spam_assassin_corpus/easy_ham_2'\n",
    "SPAM_1_PATH = 'SpamData/01_Processing/spam_assassin_corpus/spam_1'\n",
    "SPAM_2_PATH = 'SpamData/01_Processing/spam_assassin_corpus/spam_2'\n",
    "DATA_JSON_FILE = 'SpamData/01_Processing/emial-text-data.json'\n",
    "\n",
    "SPAM_CAT = 1\n",
    "HAM_CAT = 0\n",
    "\n"
   ]
  },
  {
   "cell_type": "markdown",
   "metadata": {},
   "source": [
    "#Reading File"
   ]
  },
  {
   "cell_type": "code",
   "execution_count": 527,
   "metadata": {},
   "outputs": [
    {
     "name": "stdout",
     "output_type": "stream",
     "text": [
      "From exmh-workers-admin@redhat.com  Thu Aug 22 12:36:23 2002\n",
      "Return-Path: <exmh-workers-admin@spamassassin.taint.org>\n",
      "Delivered-To: zzzz@localhost.netnoteinc.com\n",
      "Received: from localhost (localhost [127.0.0.1])\n",
      "\tby phobos.labs.netnoteinc.com (Postfix) with ESMTP id D03E543C36\n",
      "\tfor <zzzz@localhost>; Thu, 22 Aug 2002 07:36:16 -0400 (EDT)\n",
      "Received: from phobos [127.0.0.1]\n",
      "\tby localhost with IMAP (fetchmail-5.9.0)\n",
      "\tfor zzzz@localhost (single-drop); Thu, 22 Aug 2002 12:36:16 +0100 (IST)\n",
      "Received: from listman.spamassassin.taint.org (listman.spamassassin.taint.org [66.187.233.211]) by\n",
      "    dogma.slashnull.org (8.11.6/8.11.6) with ESMTP id g7MBYrZ04811 for\n",
      "    <zzzz-exmh@spamassassin.taint.org>; Thu, 22 Aug 2002 12:34:53 +0100\n",
      "Received: from listman.spamassassin.taint.org (localhost.localdomain [127.0.0.1]) by\n",
      "    listman.redhat.com (Postfix) with ESMTP id 8386540858; Thu, 22 Aug 2002\n",
      "    07:35:02 -0400 (EDT)\n",
      "Delivered-To: exmh-workers@listman.spamassassin.taint.org\n",
      "Received: from int-mx1.corp.spamassassin.taint.org (int-mx1.corp.spamassassin.taint.org\n",
      "    [172.16.52.254]) by listman.redhat.com (Postfix) with ESMTP id 10CF8406D7\n",
      "    for <exmh-workers@listman.redhat.com>; Thu, 22 Aug 2002 07:34:10 -0400\n",
      "    (EDT)\n",
      "Received: (from mail@localhost) by int-mx1.corp.spamassassin.taint.org (8.11.6/8.11.6)\n",
      "    id g7MBY7g11259 for exmh-workers@listman.redhat.com; Thu, 22 Aug 2002\n",
      "    07:34:07 -0400\n",
      "Received: from mx1.spamassassin.taint.org (mx1.spamassassin.taint.org [172.16.48.31]) by\n",
      "    int-mx1.corp.redhat.com (8.11.6/8.11.6) with SMTP id g7MBY7Y11255 for\n",
      "    <exmh-workers@redhat.com>; Thu, 22 Aug 2002 07:34:07 -0400\n",
      "Received: from ratree.psu.ac.th ([202.28.97.6]) by mx1.spamassassin.taint.org\n",
      "    (8.11.6/8.11.6) with SMTP id g7MBIhl25223 for <exmh-workers@redhat.com>;\n",
      "    Thu, 22 Aug 2002 07:18:55 -0400\n",
      "Received: from delta.cs.mu.OZ.AU (delta.coe.psu.ac.th [172.30.0.98]) by\n",
      "    ratree.psu.ac.th (8.11.6/8.11.6) with ESMTP id g7MBWel29762;\n",
      "    Thu, 22 Aug 2002 18:32:40 +0700 (ICT)\n",
      "Received: from munnari.OZ.AU (localhost [127.0.0.1]) by delta.cs.mu.OZ.AU\n",
      "    (8.11.6/8.11.6) with ESMTP id g7MBQPW13260; Thu, 22 Aug 2002 18:26:25\n",
      "    +0700 (ICT)\n",
      "From: Robert Elz <kre@munnari.OZ.AU>\n",
      "To: Chris Garrigues <cwg-dated-1030377287.06fa6d@DeepEddy.Com>\n",
      "Cc: exmh-workers@spamassassin.taint.org\n",
      "Subject: Re: New Sequences Window\n",
      "In-Reply-To: <1029945287.4797.TMDA@deepeddy.vircio.com>\n",
      "References: <1029945287.4797.TMDA@deepeddy.vircio.com>\n",
      "    <1029882468.3116.TMDA@deepeddy.vircio.com> <9627.1029933001@munnari.OZ.AU>\n",
      "    <1029943066.26919.TMDA@deepeddy.vircio.com>\n",
      "    <1029944441.398.TMDA@deepeddy.vircio.com>\n",
      "MIME-Version: 1.0\n",
      "Content-Type: text/plain; charset=us-ascii\n",
      "Message-Id: <13258.1030015585@munnari.OZ.AU>\n",
      "X-Loop: exmh-workers@spamassassin.taint.org\n",
      "Sender: exmh-workers-admin@spamassassin.taint.org\n",
      "Errors-To: exmh-workers-admin@spamassassin.taint.org\n",
      "X-Beenthere: exmh-workers@spamassassin.taint.org\n",
      "X-Mailman-Version: 2.0.1\n",
      "Precedence: bulk\n",
      "List-Help: <mailto:exmh-workers-request@spamassassin.taint.org?subject=help>\n",
      "List-Post: <mailto:exmh-workers@spamassassin.taint.org>\n",
      "List-Subscribe: <https://listman.spamassassin.taint.org/mailman/listinfo/exmh-workers>,\n",
      "    <mailto:exmh-workers-request@redhat.com?subject=subscribe>\n",
      "List-Id: Discussion list for EXMH developers <exmh-workers.spamassassin.taint.org>\n",
      "List-Unsubscribe: <https://listman.spamassassin.taint.org/mailman/listinfo/exmh-workers>,\n",
      "    <mailto:exmh-workers-request@redhat.com?subject=unsubscribe>\n",
      "List-Archive: <https://listman.spamassassin.taint.org/mailman/private/exmh-workers/>\n",
      "Date: Thu, 22 Aug 2002 18:26:25 +0700\n",
      "\n",
      "\n",
      "Dear Mr Still\n",
      "\n",
      "Good tidings to you and all your staff for the festive season ahead (Christmas).\n",
      "Now to the crux of the matter-in-hand: I am a fully qualified Santa Claus and am wondering whether you might consider me to run my own \"Santa's Grotto\" in your store.\n",
      "But WAIT! You're probably thinking: \"What makes him so special?\"\n",
      "Well, first of all, I have made several changes to the characterisation of Father Christmas. Rather than greeting the children with shouts of \"Ho, ho, ho!\" I prefer to whisper the phrase \"Dependence is not unfathomable in this cruel world we live in\". In addition, my gifts are ALL hand-made, ranging from felt hoops to vanilla-pod holders.\n",
      "You will note also, from the enclosed sketch, that I have radically redesigned Santa's outfit and have renamed my character \"Lord Buckles\". Would you be interested in employing me? I promise NEVER to let you down.\n",
      "I look forward to hearing from you.\n",
      "\n",
      "Best wishes\n",
      "Robin Cooper\n",
      "[Excerpt from the book: The Timewaster Letters by Robin Cooper]\n",
      "\n"
     ]
    }
   ],
   "source": [
    "stream = open(EXAMPLE_FILE, encoding='latin-1')\n",
    "message = stream.read()\n",
    "stream.close()\n",
    "print(message)"
   ]
  },
  {
   "cell_type": "code",
   "execution_count": 528,
   "metadata": {},
   "outputs": [
    {
     "name": "stdout",
     "output_type": "stream",
     "text": [
      "\n",
      "\n",
      "Dear Mr Still\n",
      "\n",
      "\n",
      "\n",
      "Good tidings to you and all your staff for the festive season ahead (Christmas).\n",
      "\n",
      "Now to the crux of the matter-in-hand: I am a fully qualified Santa Claus and am wondering whether you might consider me to run my own \"Santa's Grotto\" in your store.\n",
      "\n",
      "But WAIT! You're probably thinking: \"What makes him so special?\"\n",
      "\n",
      "Well, first of all, I have made several changes to the characterisation of Father Christmas. Rather than greeting the children with shouts of \"Ho, ho, ho!\" I prefer to whisper the phrase \"Dependence is not unfathomable in this cruel world we live in\". In addition, my gifts are ALL hand-made, ranging from felt hoops to vanilla-pod holders.\n",
      "\n",
      "You will note also, from the enclosed sketch, that I have radically redesigned Santa's outfit and have renamed my character \"Lord Buckles\". Would you be interested in employing me? I promise NEVER to let you down.\n",
      "\n",
      "I look forward to hearing from you.\n",
      "\n",
      "\n",
      "\n",
      "Best wishes\n",
      "\n",
      "Robin Cooper\n",
      "\n",
      "[Excerpt from the book: The Timewaster Letters by Robin Cooper]\n",
      "\n"
     ]
    }
   ],
   "source": [
    "stream = open(EXAMPLE_FILE, encoding='latin-1')\n",
    "is_body = False\n",
    "lines = []\n",
    "for line in stream :\n",
    "    if is_body:\n",
    "        lines.append(line)\n",
    "    elif line == '\\n':\n",
    "        is_body = True\n",
    "stream.close()\n",
    "email_body = '\\n'.join(lines)\n",
    "print(email_body)"
   ]
  },
  {
   "cell_type": "markdown",
   "metadata": {},
   "source": [
    "# Generator Function"
   ]
  },
  {
   "cell_type": "code",
   "execution_count": 529,
   "metadata": {},
   "outputs": [],
   "source": [
    "def generate_squares(N):\n",
    "    for my_number in range(N):\n",
    "        yield my_number ** 2\n",
    "        "
   ]
  },
  {
   "cell_type": "code",
   "execution_count": 530,
   "metadata": {},
   "outputs": [
    {
     "name": "stdout",
     "output_type": "stream",
     "text": [
      "0->1->4->9->16->"
     ]
    }
   ],
   "source": [
    "for i in generate_squares(5):\n",
    "    print(i, end= '->')"
   ]
  },
  {
   "cell_type": "markdown",
   "metadata": {},
   "source": [
    "# Email body extraction \n",
    "\n"
   ]
  },
  {
   "cell_type": "code",
   "execution_count": 531,
   "metadata": {},
   "outputs": [],
   "source": [
    "def email_body_generator(path):\n",
    "    for root, dirnames, filenames in walk(path):\n",
    "        for file_name in filenames:\n",
    "            filepath = join(root,file_name)\n",
    "            stream = open(filepath, encoding='latin-1')\n",
    "            is_body = False\n",
    "            lines = []\n",
    "            for line in stream :\n",
    "                if is_body:\n",
    "                    lines.append(line)\n",
    "                elif line == '\\n':\n",
    "                    is_body = True\n",
    "            stream.close()\n",
    "            email_body = '\\n'.join(lines)\n",
    "            \n",
    "            yield file_name, email_body"
   ]
  },
  {
   "cell_type": "code",
   "execution_count": 532,
   "metadata": {},
   "outputs": [],
   "source": [
    "def df_from_directory(path,clasification):\n",
    "    rows = []\n",
    "    row_names = []\n",
    "    \n",
    "    for file_name, email_body in email_body_generator(path):\n",
    "        rows.append({'CATEGORY':clasification,'MESSAGE':email_body})\n",
    "        row_names.append(file_name)\n",
    "    return pd.DataFrame(rows, index=row_names)\n"
   ]
  },
  {
   "cell_type": "code",
   "execution_count": 533,
   "metadata": {},
   "outputs": [],
   "source": [
    "spam_emails = df_from_directory(SPAM_1_PATH,SPAM_CAT )\n",
    "spam_emails = spam_emails.append(df_from_directory(SPAM_2_PATH, SPAM_CAT))\n"
   ]
  },
  {
   "cell_type": "code",
   "execution_count": 534,
   "metadata": {},
   "outputs": [
    {
     "data": {
      "text/html": [
       "<div>\n",
       "<style scoped>\n",
       "    .dataframe tbody tr th:only-of-type {\n",
       "        vertical-align: middle;\n",
       "    }\n",
       "\n",
       "    .dataframe tbody tr th {\n",
       "        vertical-align: top;\n",
       "    }\n",
       "\n",
       "    .dataframe thead th {\n",
       "        text-align: right;\n",
       "    }\n",
       "</style>\n",
       "<table border=\"1\" class=\"dataframe\">\n",
       "  <thead>\n",
       "    <tr style=\"text-align: right;\">\n",
       "      <th></th>\n",
       "      <th>CATEGORY</th>\n",
       "      <th>MESSAGE</th>\n",
       "    </tr>\n",
       "  </thead>\n",
       "  <tbody>\n",
       "    <tr>\n",
       "      <th>00249.5f45607c1bffe89f60ba1ec9f878039a</th>\n",
       "      <td>1</td>\n",
       "      <td>Dear Homeowner,\\n\\n \\n\\nInterest Rates are at ...</td>\n",
       "    </tr>\n",
       "    <tr>\n",
       "      <th>00373.ebe8670ac56b04125c25100a36ab0510</th>\n",
       "      <td>1</td>\n",
       "      <td>ATTENTION: This is a MUST for ALL Computer Use...</td>\n",
       "    </tr>\n",
       "    <tr>\n",
       "      <th>00214.1367039e50dc6b7adb0f2aa8aba83216</th>\n",
       "      <td>1</td>\n",
       "      <td>This is a multi-part message in MIME format.\\n...</td>\n",
       "    </tr>\n",
       "    <tr>\n",
       "      <th>00210.050ffd105bd4e006771ee63cabc59978</th>\n",
       "      <td>1</td>\n",
       "      <td>IMPORTANT INFORMATION:\\n\\n\\n\\nThe new domain n...</td>\n",
       "    </tr>\n",
       "    <tr>\n",
       "      <th>00033.9babb58d9298daa2963d4f514193d7d6</th>\n",
       "      <td>1</td>\n",
       "      <td>This is the bottom line.  If you can GIVE AWAY...</td>\n",
       "    </tr>\n",
       "  </tbody>\n",
       "</table>\n",
       "</div>"
      ],
      "text/plain": [
       "                                        CATEGORY  \\\n",
       "00249.5f45607c1bffe89f60ba1ec9f878039a         1   \n",
       "00373.ebe8670ac56b04125c25100a36ab0510         1   \n",
       "00214.1367039e50dc6b7adb0f2aa8aba83216         1   \n",
       "00210.050ffd105bd4e006771ee63cabc59978         1   \n",
       "00033.9babb58d9298daa2963d4f514193d7d6         1   \n",
       "\n",
       "                                                                                  MESSAGE  \n",
       "00249.5f45607c1bffe89f60ba1ec9f878039a  Dear Homeowner,\\n\\n \\n\\nInterest Rates are at ...  \n",
       "00373.ebe8670ac56b04125c25100a36ab0510  ATTENTION: This is a MUST for ALL Computer Use...  \n",
       "00214.1367039e50dc6b7adb0f2aa8aba83216  This is a multi-part message in MIME format.\\n...  \n",
       "00210.050ffd105bd4e006771ee63cabc59978  IMPORTANT INFORMATION:\\n\\n\\n\\nThe new domain n...  \n",
       "00033.9babb58d9298daa2963d4f514193d7d6  This is the bottom line.  If you can GIVE AWAY...  "
      ]
     },
     "execution_count": 534,
     "metadata": {},
     "output_type": "execute_result"
    }
   ],
   "source": [
    "spam_emails.head()"
   ]
  },
  {
   "cell_type": "code",
   "execution_count": 535,
   "metadata": {},
   "outputs": [
    {
     "data": {
      "text/plain": [
       "(1898, 2)"
      ]
     },
     "execution_count": 535,
     "metadata": {},
     "output_type": "execute_result"
    }
   ],
   "source": [
    "spam_emails.shape"
   ]
  },
  {
   "cell_type": "code",
   "execution_count": 536,
   "metadata": {},
   "outputs": [],
   "source": [
    "ham_emails = df_from_directory(HAM_1_PATH,HAM_CAT )\n",
    "ham_emails = ham_emails.append(df_from_directory(HAM_2_PATH,HAM_CAT))"
   ]
  },
  {
   "cell_type": "code",
   "execution_count": 537,
   "metadata": {},
   "outputs": [
    {
     "data": {
      "text/html": [
       "<div>\n",
       "<style scoped>\n",
       "    .dataframe tbody tr th:only-of-type {\n",
       "        vertical-align: middle;\n",
       "    }\n",
       "\n",
       "    .dataframe tbody tr th {\n",
       "        vertical-align: top;\n",
       "    }\n",
       "\n",
       "    .dataframe thead th {\n",
       "        text-align: right;\n",
       "    }\n",
       "</style>\n",
       "<table border=\"1\" class=\"dataframe\">\n",
       "  <thead>\n",
       "    <tr style=\"text-align: right;\">\n",
       "      <th></th>\n",
       "      <th>CATEGORY</th>\n",
       "      <th>MESSAGE</th>\n",
       "    </tr>\n",
       "  </thead>\n",
       "  <tbody>\n",
       "    <tr>\n",
       "      <th>00769.25bf9a767b5db0ed93f03c1637281663</th>\n",
       "      <td>0</td>\n",
       "      <td>\\n\\nIn a message dated 9/24/2002 11:24:58 AM, ...</td>\n",
       "    </tr>\n",
       "    <tr>\n",
       "      <th>01074.8590d61ac0aeeadb58dc2f2ba776c406</th>\n",
       "      <td>0</td>\n",
       "      <td>Hiya, I always seem to get errors when I do an...</td>\n",
       "    </tr>\n",
       "    <tr>\n",
       "      <th>02479.14365bcad3a60fcf24c5c1813f6291fb</th>\n",
       "      <td>0</td>\n",
       "      <td>\\n\\nI don't know how one can expect better and...</td>\n",
       "    </tr>\n",
       "    <tr>\n",
       "      <th>01417.ce7b07a2114218dbac682b599785820d</th>\n",
       "      <td>0</td>\n",
       "      <td>Tim Peters wrote:\\n\\n&gt; I've run no experiments...</td>\n",
       "    </tr>\n",
       "    <tr>\n",
       "      <th>00357.d559b71616f64ba1d1c1e61a03644fd4</th>\n",
       "      <td>0</td>\n",
       "      <td>At 10:34 AM -0700 on 8/28/02, Jim Whitehead wr...</td>\n",
       "    </tr>\n",
       "    <tr>\n",
       "      <th>...</th>\n",
       "      <td>...</td>\n",
       "      <td>...</td>\n",
       "    </tr>\n",
       "    <tr>\n",
       "      <th>00609.dd49926ce94a1ea328cce9b62825bc97</th>\n",
       "      <td>0</td>\n",
       "      <td>I'm one of the 30,000 but it's not working ver...</td>\n",
       "    </tr>\n",
       "    <tr>\n",
       "      <th>00957.e0b56b117f3ec5f85e432a9d2a47801f</th>\n",
       "      <td>0</td>\n",
       "      <td>Damien Morton quoted:\\n\\n&gt;W3C approves HTML 4 ...</td>\n",
       "    </tr>\n",
       "    <tr>\n",
       "      <th>01127.841233b48eceb74a825417d8d918abf8</th>\n",
       "      <td>0</td>\n",
       "      <td>On Mon, 2002-07-22 at 06:50, che wrote:\\n\\n\\n\\...</td>\n",
       "    </tr>\n",
       "    <tr>\n",
       "      <th>01178.5c977dff972cd6eef64d4173b90307f0</th>\n",
       "      <td>0</td>\n",
       "      <td>Once upon a time, Manfred wrote :\\n\\n\\n\\n&gt; I w...</td>\n",
       "    </tr>\n",
       "    <tr>\n",
       "      <th>00747.352d424267d36975a7b40b85ffd0885e</th>\n",
       "      <td>0</td>\n",
       "      <td>If you run Pick, and then use the \"New FTOC\" b...</td>\n",
       "    </tr>\n",
       "  </tbody>\n",
       "</table>\n",
       "<p>3901 rows × 2 columns</p>\n",
       "</div>"
      ],
      "text/plain": [
       "                                        CATEGORY  \\\n",
       "00769.25bf9a767b5db0ed93f03c1637281663         0   \n",
       "01074.8590d61ac0aeeadb58dc2f2ba776c406         0   \n",
       "02479.14365bcad3a60fcf24c5c1813f6291fb         0   \n",
       "01417.ce7b07a2114218dbac682b599785820d         0   \n",
       "00357.d559b71616f64ba1d1c1e61a03644fd4         0   \n",
       "...                                          ...   \n",
       "00609.dd49926ce94a1ea328cce9b62825bc97         0   \n",
       "00957.e0b56b117f3ec5f85e432a9d2a47801f         0   \n",
       "01127.841233b48eceb74a825417d8d918abf8         0   \n",
       "01178.5c977dff972cd6eef64d4173b90307f0         0   \n",
       "00747.352d424267d36975a7b40b85ffd0885e         0   \n",
       "\n",
       "                                                                                  MESSAGE  \n",
       "00769.25bf9a767b5db0ed93f03c1637281663  \\n\\nIn a message dated 9/24/2002 11:24:58 AM, ...  \n",
       "01074.8590d61ac0aeeadb58dc2f2ba776c406  Hiya, I always seem to get errors when I do an...  \n",
       "02479.14365bcad3a60fcf24c5c1813f6291fb  \\n\\nI don't know how one can expect better and...  \n",
       "01417.ce7b07a2114218dbac682b599785820d  Tim Peters wrote:\\n\\n> I've run no experiments...  \n",
       "00357.d559b71616f64ba1d1c1e61a03644fd4  At 10:34 AM -0700 on 8/28/02, Jim Whitehead wr...  \n",
       "...                                                                                   ...  \n",
       "00609.dd49926ce94a1ea328cce9b62825bc97  I'm one of the 30,000 but it's not working ver...  \n",
       "00957.e0b56b117f3ec5f85e432a9d2a47801f  Damien Morton quoted:\\n\\n>W3C approves HTML 4 ...  \n",
       "01127.841233b48eceb74a825417d8d918abf8  On Mon, 2002-07-22 at 06:50, che wrote:\\n\\n\\n\\...  \n",
       "01178.5c977dff972cd6eef64d4173b90307f0  Once upon a time, Manfred wrote :\\n\\n\\n\\n> I w...  \n",
       "00747.352d424267d36975a7b40b85ffd0885e  If you run Pick, and then use the \"New FTOC\" b...  \n",
       "\n",
       "[3901 rows x 2 columns]"
      ]
     },
     "execution_count": 537,
     "metadata": {},
     "output_type": "execute_result"
    }
   ],
   "source": [
    "ham_emails"
   ]
  },
  {
   "cell_type": "code",
   "execution_count": 538,
   "metadata": {},
   "outputs": [
    {
     "data": {
      "text/plain": [
       "(3901, 2)"
      ]
     },
     "execution_count": 538,
     "metadata": {},
     "output_type": "execute_result"
    }
   ],
   "source": [
    "ham_emails.shape"
   ]
  },
  {
   "cell_type": "code",
   "execution_count": 539,
   "metadata": {},
   "outputs": [
    {
     "name": "stdout",
     "output_type": "stream",
     "text": [
      "Shape of this email is (5799, 2)\n"
     ]
    },
    {
     "data": {
      "text/html": [
       "<div>\n",
       "<style scoped>\n",
       "    .dataframe tbody tr th:only-of-type {\n",
       "        vertical-align: middle;\n",
       "    }\n",
       "\n",
       "    .dataframe tbody tr th {\n",
       "        vertical-align: top;\n",
       "    }\n",
       "\n",
       "    .dataframe thead th {\n",
       "        text-align: right;\n",
       "    }\n",
       "</style>\n",
       "<table border=\"1\" class=\"dataframe\">\n",
       "  <thead>\n",
       "    <tr style=\"text-align: right;\">\n",
       "      <th></th>\n",
       "      <th>CATEGORY</th>\n",
       "      <th>MESSAGE</th>\n",
       "    </tr>\n",
       "  </thead>\n",
       "  <tbody>\n",
       "    <tr>\n",
       "      <th>00249.5f45607c1bffe89f60ba1ec9f878039a</th>\n",
       "      <td>1</td>\n",
       "      <td>Dear Homeowner,\\n\\n \\n\\nInterest Rates are at ...</td>\n",
       "    </tr>\n",
       "    <tr>\n",
       "      <th>00373.ebe8670ac56b04125c25100a36ab0510</th>\n",
       "      <td>1</td>\n",
       "      <td>ATTENTION: This is a MUST for ALL Computer Use...</td>\n",
       "    </tr>\n",
       "    <tr>\n",
       "      <th>00214.1367039e50dc6b7adb0f2aa8aba83216</th>\n",
       "      <td>1</td>\n",
       "      <td>This is a multi-part message in MIME format.\\n...</td>\n",
       "    </tr>\n",
       "    <tr>\n",
       "      <th>00210.050ffd105bd4e006771ee63cabc59978</th>\n",
       "      <td>1</td>\n",
       "      <td>IMPORTANT INFORMATION:\\n\\n\\n\\nThe new domain n...</td>\n",
       "    </tr>\n",
       "    <tr>\n",
       "      <th>00033.9babb58d9298daa2963d4f514193d7d6</th>\n",
       "      <td>1</td>\n",
       "      <td>This is the bottom line.  If you can GIVE AWAY...</td>\n",
       "    </tr>\n",
       "  </tbody>\n",
       "</table>\n",
       "</div>"
      ],
      "text/plain": [
       "                                        CATEGORY  \\\n",
       "00249.5f45607c1bffe89f60ba1ec9f878039a         1   \n",
       "00373.ebe8670ac56b04125c25100a36ab0510         1   \n",
       "00214.1367039e50dc6b7adb0f2aa8aba83216         1   \n",
       "00210.050ffd105bd4e006771ee63cabc59978         1   \n",
       "00033.9babb58d9298daa2963d4f514193d7d6         1   \n",
       "\n",
       "                                                                                  MESSAGE  \n",
       "00249.5f45607c1bffe89f60ba1ec9f878039a  Dear Homeowner,\\n\\n \\n\\nInterest Rates are at ...  \n",
       "00373.ebe8670ac56b04125c25100a36ab0510  ATTENTION: This is a MUST for ALL Computer Use...  \n",
       "00214.1367039e50dc6b7adb0f2aa8aba83216  This is a multi-part message in MIME format.\\n...  \n",
       "00210.050ffd105bd4e006771ee63cabc59978  IMPORTANT INFORMATION:\\n\\n\\n\\nThe new domain n...  \n",
       "00033.9babb58d9298daa2963d4f514193d7d6  This is the bottom line.  If you can GIVE AWAY...  "
      ]
     },
     "execution_count": 539,
     "metadata": {},
     "output_type": "execute_result"
    }
   ],
   "source": [
    "data = pd.concat([spam_emails,ham_emails])\n",
    "print('Shape of this email is', data.shape)\n",
    "data.head()"
   ]
  },
  {
   "cell_type": "code",
   "execution_count": 540,
   "metadata": {},
   "outputs": [
    {
     "data": {
      "text/html": [
       "<div>\n",
       "<style scoped>\n",
       "    .dataframe tbody tr th:only-of-type {\n",
       "        vertical-align: middle;\n",
       "    }\n",
       "\n",
       "    .dataframe tbody tr th {\n",
       "        vertical-align: top;\n",
       "    }\n",
       "\n",
       "    .dataframe thead th {\n",
       "        text-align: right;\n",
       "    }\n",
       "</style>\n",
       "<table border=\"1\" class=\"dataframe\">\n",
       "  <thead>\n",
       "    <tr style=\"text-align: right;\">\n",
       "      <th></th>\n",
       "      <th>CATEGORY</th>\n",
       "      <th>MESSAGE</th>\n",
       "    </tr>\n",
       "  </thead>\n",
       "  <tbody>\n",
       "    <tr>\n",
       "      <th>00609.dd49926ce94a1ea328cce9b62825bc97</th>\n",
       "      <td>0</td>\n",
       "      <td>I'm one of the 30,000 but it's not working ver...</td>\n",
       "    </tr>\n",
       "    <tr>\n",
       "      <th>00957.e0b56b117f3ec5f85e432a9d2a47801f</th>\n",
       "      <td>0</td>\n",
       "      <td>Damien Morton quoted:\\n\\n&gt;W3C approves HTML 4 ...</td>\n",
       "    </tr>\n",
       "    <tr>\n",
       "      <th>01127.841233b48eceb74a825417d8d918abf8</th>\n",
       "      <td>0</td>\n",
       "      <td>On Mon, 2002-07-22 at 06:50, che wrote:\\n\\n\\n\\...</td>\n",
       "    </tr>\n",
       "    <tr>\n",
       "      <th>01178.5c977dff972cd6eef64d4173b90307f0</th>\n",
       "      <td>0</td>\n",
       "      <td>Once upon a time, Manfred wrote :\\n\\n\\n\\n&gt; I w...</td>\n",
       "    </tr>\n",
       "    <tr>\n",
       "      <th>00747.352d424267d36975a7b40b85ffd0885e</th>\n",
       "      <td>0</td>\n",
       "      <td>If you run Pick, and then use the \"New FTOC\" b...</td>\n",
       "    </tr>\n",
       "  </tbody>\n",
       "</table>\n",
       "</div>"
      ],
      "text/plain": [
       "                                        CATEGORY  \\\n",
       "00609.dd49926ce94a1ea328cce9b62825bc97         0   \n",
       "00957.e0b56b117f3ec5f85e432a9d2a47801f         0   \n",
       "01127.841233b48eceb74a825417d8d918abf8         0   \n",
       "01178.5c977dff972cd6eef64d4173b90307f0         0   \n",
       "00747.352d424267d36975a7b40b85ffd0885e         0   \n",
       "\n",
       "                                                                                  MESSAGE  \n",
       "00609.dd49926ce94a1ea328cce9b62825bc97  I'm one of the 30,000 but it's not working ver...  \n",
       "00957.e0b56b117f3ec5f85e432a9d2a47801f  Damien Morton quoted:\\n\\n>W3C approves HTML 4 ...  \n",
       "01127.841233b48eceb74a825417d8d918abf8  On Mon, 2002-07-22 at 06:50, che wrote:\\n\\n\\n\\...  \n",
       "01178.5c977dff972cd6eef64d4173b90307f0  Once upon a time, Manfred wrote :\\n\\n\\n\\n> I w...  \n",
       "00747.352d424267d36975a7b40b85ffd0885e  If you run Pick, and then use the \"New FTOC\" b...  "
      ]
     },
     "execution_count": 540,
     "metadata": {},
     "output_type": "execute_result"
    }
   ],
   "source": [
    "data.tail()"
   ]
  },
  {
   "cell_type": "markdown",
   "metadata": {},
   "source": [
    "# Cleaning Data : Cheching for missing values"
   ]
  },
  {
   "cell_type": "code",
   "execution_count": 541,
   "metadata": {},
   "outputs": [
    {
     "data": {
      "text/plain": [
       "False"
      ]
     },
     "execution_count": 541,
     "metadata": {},
     "output_type": "execute_result"
    }
   ],
   "source": [
    "data['MESSAGE'].isnull().values.any()"
   ]
  },
  {
   "cell_type": "code",
   "execution_count": 542,
   "metadata": {},
   "outputs": [
    {
     "data": {
      "text/plain": [
       "True"
      ]
     },
     "execution_count": 542,
     "metadata": {},
     "output_type": "execute_result"
    }
   ],
   "source": [
    "#checking for empty string emails\n",
    "\n",
    "(data.MESSAGE.str.len() == 0).any()"
   ]
  },
  {
   "cell_type": "code",
   "execution_count": 543,
   "metadata": {},
   "outputs": [
    {
     "data": {
      "text/plain": [
       "3"
      ]
     },
     "execution_count": 543,
     "metadata": {},
     "output_type": "execute_result"
    }
   ],
   "source": [
    "(data.MESSAGE.str.len() == 0).sum()"
   ]
  },
  {
   "cell_type": "code",
   "execution_count": 544,
   "metadata": {},
   "outputs": [
    {
     "data": {
      "text/plain": [
       "0"
      ]
     },
     "execution_count": 544,
     "metadata": {},
     "output_type": "execute_result"
    }
   ],
   "source": [
    "# check for number of values that are empty\n",
    "data.MESSAGE.isnull().sum()"
   ]
  },
  {
   "cell_type": "markdown",
   "metadata": {},
   "source": [
    "# locate empty emails\n"
   ]
  },
  {
   "cell_type": "code",
   "execution_count": 545,
   "metadata": {},
   "outputs": [
    {
     "data": {
      "text/plain": [
       "pandas.core.series.Series"
      ]
     },
     "execution_count": 545,
     "metadata": {},
     "output_type": "execute_result"
    }
   ],
   "source": [
    "type(data.MESSAGE.str.len() == 0)"
   ]
  },
  {
   "cell_type": "code",
   "execution_count": 546,
   "metadata": {},
   "outputs": [
    {
     "data": {
      "text/plain": [
       "Index(['cmds', 'cmds', 'cmds'], dtype='object')"
      ]
     },
     "execution_count": 546,
     "metadata": {},
     "output_type": "execute_result"
    }
   ],
   "source": [
    "data[data.MESSAGE.str.len() == 0].index"
   ]
  },
  {
   "cell_type": "code",
   "execution_count": 547,
   "metadata": {},
   "outputs": [],
   "source": [
    "data = data.drop('cmds')"
   ]
  },
  {
   "cell_type": "code",
   "execution_count": 548,
   "metadata": {},
   "outputs": [
    {
     "data": {
      "text/plain": [
       "(5796, 2)"
      ]
     },
     "execution_count": 548,
     "metadata": {},
     "output_type": "execute_result"
    }
   ],
   "source": [
    "data .shape"
   ]
  },
  {
   "cell_type": "markdown",
   "metadata": {},
   "source": [
    "# Add document ids to track emails in data set"
   ]
  },
  {
   "cell_type": "code",
   "execution_count": 549,
   "metadata": {},
   "outputs": [
    {
     "data": {
      "text/plain": [
       "00249.5f45607c1bffe89f60ba1ec9f878039a       0\n",
       "00373.ebe8670ac56b04125c25100a36ab0510       1\n",
       "00214.1367039e50dc6b7adb0f2aa8aba83216       2\n",
       "00210.050ffd105bd4e006771ee63cabc59978       3\n",
       "00033.9babb58d9298daa2963d4f514193d7d6       4\n",
       "                                          ... \n",
       "00609.dd49926ce94a1ea328cce9b62825bc97    5791\n",
       "00957.e0b56b117f3ec5f85e432a9d2a47801f    5792\n",
       "01127.841233b48eceb74a825417d8d918abf8    5793\n",
       "01178.5c977dff972cd6eef64d4173b90307f0    5794\n",
       "00747.352d424267d36975a7b40b85ffd0885e    5795\n",
       "Name: DOC_ID, Length: 5796, dtype: int64"
      ]
     },
     "execution_count": 549,
     "metadata": {},
     "output_type": "execute_result"
    }
   ],
   "source": [
    "document_ids = range(0,len(data.index))\n",
    "document_ids\n",
    "\n",
    "data['DOC_ID'] = document_ids\n",
    "data.DOC_ID"
   ]
  },
  {
   "cell_type": "code",
   "execution_count": 550,
   "metadata": {},
   "outputs": [
    {
     "data": {
      "text/html": [
       "<div>\n",
       "<style scoped>\n",
       "    .dataframe tbody tr th:only-of-type {\n",
       "        vertical-align: middle;\n",
       "    }\n",
       "\n",
       "    .dataframe tbody tr th {\n",
       "        vertical-align: top;\n",
       "    }\n",
       "\n",
       "    .dataframe thead th {\n",
       "        text-align: right;\n",
       "    }\n",
       "</style>\n",
       "<table border=\"1\" class=\"dataframe\">\n",
       "  <thead>\n",
       "    <tr style=\"text-align: right;\">\n",
       "      <th></th>\n",
       "      <th>CATEGORY</th>\n",
       "      <th>MESSAGE</th>\n",
       "      <th>FILE_NAME</th>\n",
       "    </tr>\n",
       "    <tr>\n",
       "      <th>DOC_ID</th>\n",
       "      <th></th>\n",
       "      <th></th>\n",
       "      <th></th>\n",
       "    </tr>\n",
       "  </thead>\n",
       "  <tbody>\n",
       "    <tr>\n",
       "      <th>0</th>\n",
       "      <td>1</td>\n",
       "      <td>Dear Homeowner,\\n\\n \\n\\nInterest Rates are at ...</td>\n",
       "      <td>00249.5f45607c1bffe89f60ba1ec9f878039a</td>\n",
       "    </tr>\n",
       "    <tr>\n",
       "      <th>1</th>\n",
       "      <td>1</td>\n",
       "      <td>ATTENTION: This is a MUST for ALL Computer Use...</td>\n",
       "      <td>00373.ebe8670ac56b04125c25100a36ab0510</td>\n",
       "    </tr>\n",
       "    <tr>\n",
       "      <th>2</th>\n",
       "      <td>1</td>\n",
       "      <td>This is a multi-part message in MIME format.\\n...</td>\n",
       "      <td>00214.1367039e50dc6b7adb0f2aa8aba83216</td>\n",
       "    </tr>\n",
       "    <tr>\n",
       "      <th>3</th>\n",
       "      <td>1</td>\n",
       "      <td>IMPORTANT INFORMATION:\\n\\n\\n\\nThe new domain n...</td>\n",
       "      <td>00210.050ffd105bd4e006771ee63cabc59978</td>\n",
       "    </tr>\n",
       "    <tr>\n",
       "      <th>4</th>\n",
       "      <td>1</td>\n",
       "      <td>This is the bottom line.  If you can GIVE AWAY...</td>\n",
       "      <td>00033.9babb58d9298daa2963d4f514193d7d6</td>\n",
       "    </tr>\n",
       "  </tbody>\n",
       "</table>\n",
       "</div>"
      ],
      "text/plain": [
       "        CATEGORY                                            MESSAGE  \\\n",
       "DOC_ID                                                                \n",
       "0              1  Dear Homeowner,\\n\\n \\n\\nInterest Rates are at ...   \n",
       "1              1  ATTENTION: This is a MUST for ALL Computer Use...   \n",
       "2              1  This is a multi-part message in MIME format.\\n...   \n",
       "3              1  IMPORTANT INFORMATION:\\n\\n\\n\\nThe new domain n...   \n",
       "4              1  This is the bottom line.  If you can GIVE AWAY...   \n",
       "\n",
       "                                     FILE_NAME  \n",
       "DOC_ID                                          \n",
       "0       00249.5f45607c1bffe89f60ba1ec9f878039a  \n",
       "1       00373.ebe8670ac56b04125c25100a36ab0510  \n",
       "2       00214.1367039e50dc6b7adb0f2aa8aba83216  \n",
       "3       00210.050ffd105bd4e006771ee63cabc59978  \n",
       "4       00033.9babb58d9298daa2963d4f514193d7d6  "
      ]
     },
     "execution_count": 550,
     "metadata": {},
     "output_type": "execute_result"
    }
   ],
   "source": [
    "data['FILE_NAME'] = data.index\n",
    "data = data.set_index('DOC_ID')\n",
    "data.head()"
   ]
  },
  {
   "cell_type": "code",
   "execution_count": 551,
   "metadata": {},
   "outputs": [
    {
     "data": {
      "text/html": [
       "<div>\n",
       "<style scoped>\n",
       "    .dataframe tbody tr th:only-of-type {\n",
       "        vertical-align: middle;\n",
       "    }\n",
       "\n",
       "    .dataframe tbody tr th {\n",
       "        vertical-align: top;\n",
       "    }\n",
       "\n",
       "    .dataframe thead th {\n",
       "        text-align: right;\n",
       "    }\n",
       "</style>\n",
       "<table border=\"1\" class=\"dataframe\">\n",
       "  <thead>\n",
       "    <tr style=\"text-align: right;\">\n",
       "      <th></th>\n",
       "      <th>CATEGORY</th>\n",
       "      <th>MESSAGE</th>\n",
       "      <th>FILE_NAME</th>\n",
       "    </tr>\n",
       "    <tr>\n",
       "      <th>DOC_ID</th>\n",
       "      <th></th>\n",
       "      <th></th>\n",
       "      <th></th>\n",
       "    </tr>\n",
       "  </thead>\n",
       "  <tbody>\n",
       "    <tr>\n",
       "      <th>5791</th>\n",
       "      <td>0</td>\n",
       "      <td>I'm one of the 30,000 but it's not working ver...</td>\n",
       "      <td>00609.dd49926ce94a1ea328cce9b62825bc97</td>\n",
       "    </tr>\n",
       "    <tr>\n",
       "      <th>5792</th>\n",
       "      <td>0</td>\n",
       "      <td>Damien Morton quoted:\\n\\n&gt;W3C approves HTML 4 ...</td>\n",
       "      <td>00957.e0b56b117f3ec5f85e432a9d2a47801f</td>\n",
       "    </tr>\n",
       "    <tr>\n",
       "      <th>5793</th>\n",
       "      <td>0</td>\n",
       "      <td>On Mon, 2002-07-22 at 06:50, che wrote:\\n\\n\\n\\...</td>\n",
       "      <td>01127.841233b48eceb74a825417d8d918abf8</td>\n",
       "    </tr>\n",
       "    <tr>\n",
       "      <th>5794</th>\n",
       "      <td>0</td>\n",
       "      <td>Once upon a time, Manfred wrote :\\n\\n\\n\\n&gt; I w...</td>\n",
       "      <td>01178.5c977dff972cd6eef64d4173b90307f0</td>\n",
       "    </tr>\n",
       "    <tr>\n",
       "      <th>5795</th>\n",
       "      <td>0</td>\n",
       "      <td>If you run Pick, and then use the \"New FTOC\" b...</td>\n",
       "      <td>00747.352d424267d36975a7b40b85ffd0885e</td>\n",
       "    </tr>\n",
       "  </tbody>\n",
       "</table>\n",
       "</div>"
      ],
      "text/plain": [
       "        CATEGORY                                            MESSAGE  \\\n",
       "DOC_ID                                                                \n",
       "5791           0  I'm one of the 30,000 but it's not working ver...   \n",
       "5792           0  Damien Morton quoted:\\n\\n>W3C approves HTML 4 ...   \n",
       "5793           0  On Mon, 2002-07-22 at 06:50, che wrote:\\n\\n\\n\\...   \n",
       "5794           0  Once upon a time, Manfred wrote :\\n\\n\\n\\n> I w...   \n",
       "5795           0  If you run Pick, and then use the \"New FTOC\" b...   \n",
       "\n",
       "                                     FILE_NAME  \n",
       "DOC_ID                                          \n",
       "5791    00609.dd49926ce94a1ea328cce9b62825bc97  \n",
       "5792    00957.e0b56b117f3ec5f85e432a9d2a47801f  \n",
       "5793    01127.841233b48eceb74a825417d8d918abf8  \n",
       "5794    01178.5c977dff972cd6eef64d4173b90307f0  \n",
       "5795    00747.352d424267d36975a7b40b85ffd0885e  "
      ]
     },
     "execution_count": 551,
     "metadata": {},
     "output_type": "execute_result"
    }
   ],
   "source": [
    "data.tail()"
   ]
  },
  {
   "cell_type": "markdown",
   "metadata": {},
   "source": [
    "# save all the cleade data fram as some form of formate"
   ]
  },
  {
   "cell_type": "code",
   "execution_count": 553,
   "metadata": {},
   "outputs": [],
   "source": [
    "data.to_json(DATA_JSON_FILE)"
   ]
  },
  {
   "cell_type": "markdown",
   "metadata": {},
   "source": [
    "# Number of Spam messages Visualised\n",
    "\n"
   ]
  },
  {
   "cell_type": "code",
   "execution_count": 556,
   "metadata": {},
   "outputs": [
    {
     "data": {
      "text/plain": [
       "0    3900\n",
       "1    1896\n",
       "Name: CATEGORY, dtype: int64"
      ]
     },
     "execution_count": 556,
     "metadata": {},
     "output_type": "execute_result"
    }
   ],
   "source": [
    "data.CATEGORY.value_counts()"
   ]
  },
  {
   "cell_type": "code",
   "execution_count": 563,
   "metadata": {},
   "outputs": [],
   "source": [
    "amount_of_spam = data.CATEGORY.value_counts()[1] \n",
    "amount_of_ham = data.CATEGORY.value_counts()[0] "
   ]
  },
  {
   "cell_type": "code",
   "execution_count": 593,
   "metadata": {},
   "outputs": [
    {
     "data": {
      "image/png": "[encoded data removed]",
      "text/plain": [
       "<Figure size 454x454 with 1 Axes>"
      ]
     },
     "metadata": {},
     "output_type": "display_data"
    }
   ],
   "source": [
    "category_name = ['Spam', 'Legit Mail']\n",
    "size = [amount_of_spam, amount_of_ham]\n",
    "own_color =['#ff9999','#66b3ff']\n",
    "\n",
    "plt.figure(figsize=(2,2),dpi=227)\n",
    "plt.pie(size,  labels= category_name, textprops = {'fontsize':6},\n",
    "        startangle=90, autopct='%1.1f%%',\n",
    "        colors = own_color\n",
    "        \n",
    "       )\n",
    "plt.show()"
   ]
  },
  {
   "cell_type": "code",
   "execution_count": 600,
   "metadata": {},
   "outputs": [
    {
     "data": {
      "image/png": "[encoded data removed]",
      "text/plain": [
       "<Figure size 454x454 with 1 Axes>"
      ]
     },
     "metadata": {},
     "output_type": "display_data"
    },
    {
     "data": {
      "image/png": "[encoded data removed]",
      "text/plain": [
       "<Figure size 432x288 with 1 Axes>"
      ]
     },
     "metadata": {},
     "output_type": "display_data"
    }
   ],
   "source": [
    "category_name = ['Spam', 'Legit Mail']\n",
    "size = [amount_of_spam, amount_of_ham]\n",
    "own_color =['#ff9999','#66b3ff']\n",
    "\n",
    "plt.figure(figsize=(2,2),dpi=227)\n",
    "plt.pie(size,  labels= category_name, textprops = {'fontsize':6},\n",
    "        startangle=90, autopct='%1.1f%%',\n",
    "        colors = own_color ,\n",
    "        explode = (0, 0.1),\n",
    "        shadow=True\n",
    "        \n",
    "       )\n",
    "plt.show()\n",
    "\n",
    " \n",
    "category_name = ['Spam', 'Legit Mail']\n",
    "size = [amount_of_spam, amount_of_ham]\n",
    "own_color =['#ff9999','#66b3ff']    \n",
    "    \n",
    "fig1, ax1 = plt.subplots()\n",
    "ax1.pie(size, colors = own_color, labels=category_name, autopct='%1.1f%%', startangle=90,pctdistance =0.8)\n",
    "#draw circle\n",
    "centre_circle = plt.Circle((0,0),0.70,fc='white')\n",
    "fig = plt.gcf()\n",
    "fig.gca().add_artist(centre_circle)\n",
    "# Equal aspect ratio ensures that pie is drawn as a circle\n",
    "ax1.axis('equal')  \n",
    "plt.tight_layout()\n",
    "plt.show()"
   ]
  },
  {
   "cell_type": "code",
   "execution_count": 604,
   "metadata": {},
   "outputs": [
    {
     "data": {
      "image/png": "[encoded data removed]",
      "text/plain": [
       "<Figure size 432x288 with 1 Axes>"
      ]
     },
     "metadata": {},
     "output_type": "display_data"
    }
   ],
   "source": [
    "# Pie chart\n",
    "labels = ['Spam', 'Legit Mial', 'Updates', 'Promotions']\n",
    "sizes = [25, 43, 19, 22]\n",
    "#colors\n",
    "colors = ['#ff9999','#66b3ff','#99ff99','#ffcc99']\n",
    "offset = [0.05,0.05,0.05,0.05]\n",
    " \n",
    "fig1, ax1 = plt.subplots()\n",
    "ax1.pie(sizes, colors = colors, labels=labels, autopct='%1.1f%%', startangle=90, pctdistance =0.8, explode=offset)\n",
    "#draw circle\n",
    "centre_circle = plt.Circle((0,0),0.70,fc='white')\n",
    "fig = plt.gcf()\n",
    "fig.gca().add_artist(centre_circle)\n",
    "# Equal aspect ratio ensures that pie is drawn as a circle\n",
    "ax1.axis('equal')  \n",
    "plt.tight_layout()\n",
    "plt.show()"
   ]
  },
  {
   "cell_type": "code",
   "execution_count": null,
   "metadata": {},
   "outputs": [],
   "source": []
  }
 ],
 "metadata": {
  "kernelspec": {
   "display_name": "Python 3",
   "language": "python",
   "name": "python3"
  },
  "language_info": {
   "codemirror_mode": {
    "name": "ipython",
    "version": 3
   },
   "file_extension": ".py",
   "mimetype": "text/x-python",
   "name": "python",
   "nbconvert_exporter": "python",
   "pygments_lexer": "ipython3",
   "version": "3.7.0"
  }
 },
 "nbformat": 4,
 "nbformat_minor": 2
}
