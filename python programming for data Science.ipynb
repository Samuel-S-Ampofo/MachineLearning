{
 "cells": [
  {
   "cell_type": "code",
   "execution_count": 438,
   "metadata": {},
   "outputs": [
    {
     "name": "stdout",
     "output_type": "stream",
     "text": [
      "34\n"
     ]
    }
   ],
   "source": [
    "#variables\n",
    "\n",
    "myage = 34\n",
    "print(myage)"
   ]
  },
  {
   "cell_type": "code",
   "execution_count": 439,
   "metadata": {},
   "outputs": [
    {
     "name": "stdout",
     "output_type": "stream",
     "text": [
      "40.691250000000004\n"
     ]
    }
   ],
   "source": [
    "restuarantBill = 36.17\n",
    "serviceCharge = restuarantBill * 0.125\n",
    "restuarantBill = serviceCharge + restuarantBill\n",
    "print(restuarantBill)"
   ]
  },
  {
   "cell_type": "code",
   "execution_count": 440,
   "metadata": {},
   "outputs": [],
   "source": [
    "#Datatypes\n",
    "#str\n",
    "myName = \"Samuel Ampofo\" \n",
    "#int\n",
    "myage = 34 \n",
    "# float\n",
    "height = 187.8\n"
   ]
  },
  {
   "cell_type": "code",
   "execution_count": 441,
   "metadata": {},
   "outputs": [],
   "source": [
    "#collections\n",
    "\n",
    "# list\n",
    "primeNumbers =  [2,4,5,9,8,5 , 'Jay Z'] \n",
    "# array\n",
    "famousPeople = ['Jay z', 'Kanye West', 'Donarld Trump']\n"
   ]
  },
  {
   "cell_type": "code",
   "execution_count": 442,
   "metadata": {},
   "outputs": [],
   "source": [
    "#pandas data frame\n",
    "\n",
    "import matplotlib.pyplot as plt\n",
    "from sklearn.linear_model import LinearRegression\n",
    "import pandas as pd\n",
    "data = pd.read_csv('lsd-math-score-data.csv')"
   ]
  },
  {
   "cell_type": "code",
   "execution_count": 443,
   "metadata": {},
   "outputs": [
    {
     "name": "stdout",
     "output_type": "stream",
     "text": [
      "   Time_Delay_in_Minutes  LSD_ppm  Avg_Math_Test_Score\n",
      "0                      5     1.17                78.93\n",
      "1                     15     2.97                58.20\n",
      "2                     30     3.26                67.47\n",
      "3                     60     4.69                37.47\n",
      "4                    120     5.83                45.65\n",
      "5                    240     6.00                32.92\n",
      "6                    480     6.41                29.97\n"
     ]
    }
   ],
   "source": [
    "print(data)"
   ]
  },
  {
   "cell_type": "code",
   "execution_count": 444,
   "metadata": {},
   "outputs": [],
   "source": [
    "#data frame manupulation\n",
    "\n",
    "#geting an index data from data frames\n",
    "dataIndex = data['Avg_Math_Test_Score'][0]\n",
    "\n",
    "# assigning new varibale from a data frame\n",
    "onlyMathScore = data['Avg_Math_Test_Score']"
   ]
  },
  {
   "cell_type": "code",
   "execution_count": 445,
   "metadata": {},
   "outputs": [
    {
     "data": {
      "text/plain": [
       "0    78.93\n",
       "1    58.20\n",
       "2    67.47\n",
       "3    37.47\n",
       "4    45.65\n",
       "5    32.92\n",
       "6    29.97\n",
       "Name: Avg_Math_Test_Score, dtype: float64"
      ]
     },
     "execution_count": 445,
     "metadata": {},
     "output_type": "execute_result"
    }
   ],
   "source": [
    "onlyMathScore"
   ]
  },
  {
   "cell_type": "code",
   "execution_count": 446,
   "metadata": {},
   "outputs": [],
   "source": [
    "# adding a new column to e exiting data frame.\n",
    "data['Test_Subject']= 'something you study'"
   ]
  },
  {
   "cell_type": "code",
   "execution_count": 447,
   "metadata": {},
   "outputs": [
    {
     "name": "stdout",
     "output_type": "stream",
     "text": [
      "   Time_Delay_in_Minutes  LSD_ppm  Avg_Math_Test_Score         Test_Subject\n",
      "0                      5     1.17                78.93  something you study\n",
      "1                     15     2.97                58.20  something you study\n",
      "2                     30     3.26                67.47  something you study\n",
      "3                     60     4.69                37.47  something you study\n",
      "4                    120     5.83                45.65  something you study\n",
      "5                    240     6.00                32.92  something you study\n",
      "6                    480     6.41                29.97  something you study\n"
     ]
    }
   ],
   "source": [
    "print(data)"
   ]
  },
  {
   "cell_type": "code",
   "execution_count": 448,
   "metadata": {},
   "outputs": [
    {
     "name": "stdout",
     "output_type": "stream",
     "text": [
      "   Time_Delay_in_Minutes  LSD_ppm  Avg_Math_Test_Score         Test_Subject  \\\n",
      "0                      5     1.17                78.93  something you study   \n",
      "1                     15     2.97                58.20  something you study   \n",
      "2                     30     3.26                67.47  something you study   \n",
      "3                     60     4.69                37.47  something you study   \n",
      "4                    120     5.83                45.65  something you study   \n",
      "5                    240     6.00                32.92  something you study   \n",
      "6                    480     6.41                29.97  something you study   \n",
      "\n",
      "   High_Score  \n",
      "0         100  \n",
      "1         100  \n",
      "2         100  \n",
      "3         100  \n",
      "4         100  \n",
      "5         100  \n",
      "6         100  \n"
     ]
    }
   ],
   "source": [
    "data['High_Score']= 100  \n",
    "print(data)"
   ]
  },
  {
   "cell_type": "code",
   "execution_count": 449,
   "metadata": {},
   "outputs": [
    {
     "name": "stdout",
     "output_type": "stream",
     "text": [
      "   Time_Delay_in_Minutes  LSD_ppm  Avg_Math_Test_Score         Test_Subject  \\\n",
      "0                      5     1.17                78.93  something you study   \n",
      "1                     15     2.97                58.20  something you study   \n",
      "2                     30     3.26                67.47  something you study   \n",
      "3                     60     4.69                37.47  something you study   \n",
      "4                    120     5.83                45.65  something you study   \n",
      "5                    240     6.00                32.92  something you study   \n",
      "6                    480     6.41                29.97  something you study   \n",
      "\n",
      "   High_Score  \n",
      "0      178.93  \n",
      "1      158.20  \n",
      "2      167.47  \n",
      "3      137.47  \n",
      "4      145.65  \n",
      "5      132.92  \n",
      "6      129.97  \n"
     ]
    }
   ],
   "source": [
    "data['High_Score'] = data['High_Score']+ data['Avg_Math_Test_Score']\n",
    "print(data)"
   ]
  },
  {
   "cell_type": "code",
   "execution_count": 450,
   "metadata": {},
   "outputs": [],
   "source": [
    "#scoreIdex = 0\n",
    "#scoreArrayLen = len(onlyMathScore)\n",
    "\n",
    "#for score in onlyMathScore:\n",
    "#    data['High_Score'][scoreIdex] =  score + 100\n",
    "#    scoreIdex = scoreIdex + 1\n",
    "#print(data)"
   ]
  },
  {
   "cell_type": "code",
   "execution_count": 451,
   "metadata": {},
   "outputs": [
    {
     "name": "stdout",
     "output_type": "stream",
     "text": [
      "   Time_Delay_in_Minutes  LSD_ppm  Avg_Math_Test_Score         Test_Subject  \\\n",
      "0                      5     1.17                78.93  something you study   \n",
      "1                     15     2.97                58.20  something you study   \n",
      "2                     30     3.26                67.47  something you study   \n",
      "3                     60     4.69                37.47  something you study   \n",
      "4                    120     5.83                45.65  something you study   \n",
      "5                    240     6.00                32.92  something you study   \n",
      "6                    480     6.41                29.97  something you study   \n",
      "\n",
      "   High_Score  \n",
      "0  32015.9449  \n",
      "1  25027.2400  \n",
      "2  28046.2009  \n",
      "3  18898.0009  \n",
      "4  21213.9225  \n",
      "5  17667.7264  \n",
      "6  16892.2009  \n"
     ]
    }
   ],
   "source": [
    "data['High_Score'] = data['High_Score'] * data['High_Score']\n",
    "print(data)"
   ]
  },
  {
   "cell_type": "code",
   "execution_count": 452,
   "metadata": {},
   "outputs": [
    {
     "data": {
      "text/plain": [
       "pandas.core.series.Series"
      ]
     },
     "execution_count": 452,
     "metadata": {},
     "output_type": "execute_result"
    }
   ],
   "source": [
    "#series always has one one column\n",
    "type(onlyMathScore)"
   ]
  },
  {
   "cell_type": "code",
   "execution_count": 453,
   "metadata": {},
   "outputs": [
    {
     "name": "stdout",
     "output_type": "stream",
     "text": [
      "   LSD_ppm  Avg_Math_Test_Score\n",
      "0     1.17                78.93\n",
      "1     2.97                58.20\n",
      "2     3.26                67.47\n",
      "3     4.69                37.47\n",
      "4     5.83                45.65\n",
      "5     6.00                32.92\n",
      "6     6.41                29.97\n"
     ]
    }
   ],
   "source": [
    "#creating sublist from dataframes\n",
    "cleanData = data[['LSD_ppm', 'Avg_Math_Test_Score']]\n",
    "print(cleanData)"
   ]
  },
  {
   "cell_type": "code",
   "execution_count": 454,
   "metadata": {},
   "outputs": [
    {
     "name": "stdout",
     "output_type": "stream",
     "text": [
      "   Avg_Math_Test_Score\n",
      "0                78.93\n",
      "1                58.20\n",
      "2                67.47\n",
      "3                37.47\n",
      "4                45.65\n",
      "5                32.92\n",
      "6                29.97\n"
     ]
    },
    {
     "data": {
      "text/plain": [
       "pandas.core.frame.DataFrame"
      ]
     },
     "execution_count": 454,
     "metadata": {},
     "output_type": "execute_result"
    }
   ],
   "source": [
    "y =  data[['Avg_Math_Test_Score']]\n",
    "print(y)\n",
    "type(y)"
   ]
  },
  {
   "cell_type": "code",
   "execution_count": 455,
   "metadata": {},
   "outputs": [
    {
     "name": "stdout",
     "output_type": "stream",
     "text": [
      "   LSD_ppm\n",
      "0     1.17\n",
      "1     2.97\n",
      "2     3.26\n",
      "3     4.69\n",
      "4     5.83\n",
      "5     6.00\n",
      "6     6.41\n"
     ]
    },
    {
     "data": {
      "text/plain": [
       "pandas.core.frame.DataFrame"
      ]
     },
     "execution_count": 455,
     "metadata": {},
     "output_type": "execute_result"
    }
   ],
   "source": [
    "X = data[['LSD_ppm']]\n",
    "print(X)\n",
    "type(X)"
   ]
  },
  {
   "cell_type": "code",
   "execution_count": 456,
   "metadata": {},
   "outputs": [
    {
     "name": "stdout",
     "output_type": "stream",
     "text": [
      "   Time_Delay_in_Minutes  LSD_ppm  Avg_Math_Test_Score  High_Score\n",
      "0                      5     1.17                78.93  32015.9449\n",
      "1                     15     2.97                58.20  25027.2400\n",
      "2                     30     3.26                67.47  28046.2009\n",
      "3                     60     4.69                37.47  18898.0009\n",
      "4                    120     5.83                45.65  21213.9225\n",
      "5                    240     6.00                32.92  17667.7264\n",
      "6                    480     6.41                29.97  16892.2009\n"
     ]
    }
   ],
   "source": [
    "#delet a column\n",
    "del data['Test_Subject']\n",
    "\n",
    "print(data)"
   ]
  },
  {
   "cell_type": "code",
   "execution_count": 457,
   "metadata": {},
   "outputs": [],
   "source": [
    "\n",
    "import matplotlib.pyplot as plt\n",
    "from sklearn.linear_model import LinearRegression"
   ]
  },
  {
   "cell_type": "code",
   "execution_count": 458,
   "metadata": {},
   "outputs": [],
   "source": [
    "#function \n",
    "def get_milk():\n",
    "    print('open the door')\n",
    "    print('walk to the store')\n",
    "    print('Buy milk on the gorund floor')\n",
    "    print('return with mil galore')"
   ]
  },
  {
   "cell_type": "code",
   "execution_count": 459,
   "metadata": {},
   "outputs": [
    {
     "name": "stdout",
     "output_type": "stream",
     "text": [
      "open the door\n",
      "walk to the store\n",
      "Buy milk on the gorund floor\n",
      "return with mil galore\n"
     ]
    }
   ],
   "source": [
    "#function call    \n",
    "get_milk()"
   ]
  },
  {
   "cell_type": "code",
   "execution_count": 460,
   "metadata": {},
   "outputs": [],
   "source": [
    "#functions   with input and arguments\n",
    "def fill_the_fridge(amount):\n",
    "    print('open the door')\n",
    "    print('walk to the store')\n",
    "    print('Buy ' + amount + ' milk on the gorund floor')\n",
    "    print('return with mil galore')"
   ]
  },
  {
   "cell_type": "code",
   "execution_count": 461,
   "metadata": {},
   "outputs": [
    {
     "name": "stdout",
     "output_type": "stream",
     "text": [
      "open the door\n",
      "walk to the store\n",
      "Buy twenty milk on the gorund floor\n",
      "return with mil galore\n"
     ]
    }
   ],
   "source": [
    "fill_the_fridge('twenty')"
   ]
  },
  {
   "cell_type": "code",
   "execution_count": 462,
   "metadata": {},
   "outputs": [],
   "source": [
    "#functions   with multiple arguments\n",
    "\n",
    "\n",
    "def milk_mission(amount, destination):\n",
    "    print('open the door')\n",
    "    print('walk to the '+ destination+' store')\n",
    "    print('Buy ' + amount + ' milk on the gorund floor')\n",
    "    print('return with mil galore')\n"
   ]
  },
  {
   "cell_type": "code",
   "execution_count": 463,
   "metadata": {},
   "outputs": [
    {
     "name": "stdout",
     "output_type": "stream",
     "text": [
      "open the door\n",
      "walk to the department store\n",
      "Buy twenty milk on the gorund floor\n",
      "return with mil galore\n"
     ]
    }
   ],
   "source": [
    "milk_mission(destination='department', amount='twenty')"
   ]
  },
  {
   "cell_type": "code",
   "execution_count": 464,
   "metadata": {},
   "outputs": [],
   "source": [
    "def times(n1,n2):\n",
    "    theOutcome = n1 * n2\n",
    "    return  theOutcome"
   ]
  },
  {
   "cell_type": "code",
   "execution_count": 465,
   "metadata": {},
   "outputs": [
    {
     "name": "stdout",
     "output_type": "stream",
     "text": [
      "15.9826\n"
     ]
    }
   ],
   "source": [
    "testimes = times(3.14,5.09)\n",
    "print(testimes)"
   ]
  },
  {
   "cell_type": "code",
   "execution_count": 466,
   "metadata": {},
   "outputs": [],
   "source": [
    "time = data['Time_Delay_in_Minutes']\n",
    "LSD = data[['LSD_ppm']]\n",
    "score = data[['Avg_Math_Test_Score']]"
   ]
  },
  {
   "cell_type": "code",
   "execution_count": 467,
   "metadata": {},
   "outputs": [
    {
     "data": {
      "image/png": "[encoded data removed]",
      "text/plain": [
       "<Figure size 640x480 with 1 Axes>"
      ]
     },
     "metadata": {},
     "output_type": "display_data"
    }
   ],
   "source": [
    "# built in styles from mathplot lib\n",
    "%matplotlib inline\n",
    "plt.style.use('classic')\n",
    "\n",
    "plt.plot(time,LSD, color='#9b59b6', linewidth = 3)\n",
    "plt.title('Tissue Concentration of LSD over time', fontsize=17)\n",
    "plt.xlabel('Time in Minutes',  fontsize=14)\n",
    "plt.ylabel('Tissue LSD ppm', fontsize=14)\n",
    "plt.text(x=0,y=-0.5, s='Wagner et al. (1968)',fontsize=12)\n",
    "plt.xticks(fontsize=14)\n",
    "plt.yticks(fontsize=14)\n",
    "plt.ylim(1,7)\n",
    "plt.xlim(0,600)\n",
    "plt.show()"
   ]
  },
  {
   "cell_type": "code",
   "execution_count": 468,
   "metadata": {},
   "outputs": [
    {
     "data": {
      "text/plain": [
       "LinearRegression(copy_X=True, fit_intercept=True, n_jobs=None, normalize=False)"
      ]
     },
     "execution_count": 468,
     "metadata": {},
     "output_type": "execute_result"
    }
   ],
   "source": [
    "\n",
    "regr = LinearRegression()\n",
    "regr.fit(LSD,score)"
   ]
  },
  {
   "cell_type": "code",
   "execution_count": 475,
   "metadata": {},
   "outputs": [
    {
     "name": "stdout",
     "output_type": "stream",
     "text": [
      "Thetal:  -9.009466415296782\n",
      "Intercept:  89.12387376799305\n",
      "R-Squared 0.8778349707775888\n"
     ]
    }
   ],
   "source": [
    "print('Thetal: ', regr.coef_[0][0])\n",
    "print('Intercept: ', regr.intercept_[0])\n",
    "print('R-Squared', regr.score(LSD,score))\n",
    "predicted_score = regr.predict(LSD)"
   ]
  },
  {
   "cell_type": "code",
   "execution_count": 477,
   "metadata": {},
   "outputs": [
    {
     "data": {
      "image/png": "[encoded data removed]",
      "text/plain": [
       "<Figure size 432x288 with 1 Axes>"
      ]
     },
     "metadata": {},
     "output_type": "display_data"
    },
    {
     "data": {
      "text/plain": [
       "Text(0, 0.5, 'Perfimance score')"
      ]
     },
     "execution_count": 477,
     "metadata": {},
     "output_type": "execute_result"
    },
    {
     "data": {
      "image/png": "[encoded data removed]",
      "text/plain": [
       "<Figure size 432x288 with 1 Axes>"
      ]
     },
     "metadata": {},
     "output_type": "display_data"
    }
   ],
   "source": [
    "%matplotlib inline\n",
    "plt.style.use('fivethirtyeight')\n",
    "plt.scatter(LSD, score,  color='blue', s=100, alpha=0.7)\n",
    "plt.plot(LSD,predicted_score, color='red',linewidth=3)\n",
    "plt.show()\n",
    "plt.title('Arithmentic vs LSD - 25',fontsize=17)\n",
    "plt.xlabel('Tissues LSD ppm',fontsize=14)\n",
    "plt.ylabel('Perfimance score',fontsize=14)"
   ]
  },
  {
   "cell_type": "code",
   "execution_count": null,
   "metadata": {},
   "outputs": [],
   "source": []
  }
 ],
 "metadata": {
  "kernelspec": {
   "display_name": "Python 3",
   "language": "python",
   "name": "python3"
  },
  "language_info": {
   "codemirror_mode": {
    "name": "ipython",
    "version": 3
   },
   "file_extension": ".py",
   "mimetype": "text/x-python",
   "name": "python",
   "nbconvert_exporter": "python",
   "pygments_lexer": "ipython3",
   "version": "3.7.0"
  }
 },
 "nbformat": 4,
 "nbformat_minor": 2
}
