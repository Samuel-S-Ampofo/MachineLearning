{
 "cells": [
  {
   "cell_type": "markdown",
   "metadata": {},
   "source": [
    "## Valuation tool"
   ]
  },
  {
   "cell_type": "code",
   "execution_count": 193,
   "metadata": {},
   "outputs": [
    {
     "name": "stdout",
     "output_type": "stream",
     "text": [
      "The estimated property value is 827000.0\n",
      "At 68 % confidence the valuation range is\n",
      "USD 685000.0 at the lower end to USD  997000.0 at the high end.\n"
     ]
    }
   ],
   "source": [
    "# Make an import of all resources needed.\n",
    "\n",
    "from sklearn.datasets import load_boston\n",
    "from sklearn.linear_model import LinearRegression\n",
    "from sklearn.metrics import mean_squared_error\n",
    "\n",
    "import boston_valuation as bv\n",
    "import pandas as pd\n",
    "import numpy as np"
   ]
  },
  {
   "cell_type": "code",
   "execution_count": 150,
   "metadata": {},
   "outputs": [],
   "source": [
    "# Gather Data\n",
    "boston_dataset = load_boston()\n",
    "data = pd.DataFrame(data= boston_dataset.data, columns = boston_dataset.feature_names)\n",
    "# data.head()\n",
    "\n",
    "features = data.drop(['INDUS', 'AGE',], axis = 1)\n",
    "# features.head()\n",
    "# this s two dimantional  dataset\n",
    "\n",
    "# creating log prces for our dataset\n",
    "# log prices are one dimension al and has to be madde into two \n",
    "log_prices = np.log(boston_dataset.target)\n",
    "target = pd.DataFrame(log_prices, columns=['PRICE'])\n"
   ]
  },
  {
   "cell_type": "code",
   "execution_count": 151,
   "metadata": {},
   "outputs": [
    {
     "data": {
      "text/plain": [
       "array([[3.61352356e+00, 1.13636364e+01, 6.91699605e-02, 5.54695059e-01,\n",
       "        6.28463439e+00, 3.79504269e+00, 9.54940711e+00, 4.08237154e+02,\n",
       "        1.84555336e+01, 3.56674032e+02, 1.26530632e+01]])"
      ]
     },
     "execution_count": 151,
     "metadata": {},
     "output_type": "execute_result"
    }
   ],
   "source": [
    "CRIME_IDX = 0\n",
    "ZN_INX = 1\n",
    "CHAS_IDX = 2\n",
    "RM_IDX = 4\n",
    "PTRATIO_IDX = 8\n",
    "\n",
    "#property_stats = np.ndarray(shape=(1,11))\n",
    "#property_stats[0][CRIME_IDX] = features['CRIM'].mean()\n",
    "#property_stats[0][ZN_INX]  = features['ZN'].mean()\n",
    "#property_stats[0][CHAS_IDX] =  features['CHAS'].mean()\n",
    "\n",
    "property_stats = features.mean().values.reshape(1,11)\n",
    "property_stats\n"
   ]
  },
  {
   "cell_type": "code",
   "execution_count": 152,
   "metadata": {},
   "outputs": [],
   "source": [
    "regr = LinearRegression().fit(features,target)\n",
    "fitted_vals = regr.predict(features)\n",
    "# Calculate the MSE  nad RMSE using sklearn\n",
    "\n",
    "MSE = mean_squared_error(target,fitted_vals)\n",
    "RMSE = np.sqrt(MSE)\n",
    "\n",
    " # RMSE"
   ]
  },
  {
   "cell_type": "code",
   "execution_count": 167,
   "metadata": {},
   "outputs": [],
   "source": [
    "# function that calculates log prices\n",
    "\n",
    "def get_log_estimate(nr_room,\n",
    "                    students_per_classroom,\n",
    "                    next_to_river = False,\n",
    "                    high_confidence = True):\n",
    "    #Configure property\n",
    "        property_stats[0][RM_IDX] = nr_room\n",
    "        property_stats[0][PTRATIO_IDX] = students_per_classroom\n",
    "    \n",
    "    #Configure property\n",
    "        if next_to_river:\n",
    "            property_stats[0][CHAS_IDX] = 1\n",
    "        else :\n",
    "            property_stats[0][CHAS_IDX] = 0\n",
    "    \n",
    "        log_estimamte = regr.predict(property_stats)[0][0]\n",
    "        \n",
    "        if high_confidence:\n",
    "            upper_bond = log_estimamte + 2* RMSE\n",
    "            lower_bond = log_estimamte - 2* RMSE\n",
    "            interval = 95\n",
    "            \n",
    "        else:\n",
    "            upper_bond = log_estimamte +  RMSE\n",
    "            lower_bond = log_estimamte -  RMSE\n",
    "            interval = 68\n",
    "            \n",
    "        return log_estimamte,upper_bond,lower_bond, interval"
   ]
  },
  {
   "cell_type": "code",
   "execution_count": 168,
   "metadata": {},
   "outputs": [
    {
     "data": {
      "text/plain": [
       "(2.7767581914803987, 2.964270326677529, 2.5892460562832684, 68)"
      ]
     },
     "execution_count": 168,
     "metadata": {},
     "output_type": "execute_result"
    }
   ],
   "source": [
    "get_log_estimate(3,20, next_to_river = True, high_confidence = False)"
   ]
  },
  {
   "cell_type": "code",
   "execution_count": 169,
   "metadata": {},
   "outputs": [
    {
     "name": "stdout",
     "output_type": "stream",
     "text": [
      "The estimated property value is 827000.0\n",
      "At 68 % confidence the valuation range is\n",
      "USD 685000.0 at the lower end to USD  997000.0 at the high end.\n"
     ]
    }
   ],
   "source": [
    "ZILLOW_MEDIAN_PRICE = 583.3\n",
    "SCALE_FACTOR = ZILLOW_MEDIAN_PRICE / np.median(boston_dataset.target)\n",
    "\n",
    "log_set,upper,lower,conf = get_log_estimate(9,students_per_classroom=15,\n",
    "                                            next_to_river = False,\n",
    "                                            high_confidence = False)\n",
    "\n",
    "#Convert to todays dollar\n",
    "dollar_est = np.e**log_set * 1000 * SCALE_FACTOR\n",
    "dollar_hi = np.e**lower * 1000 * SCALE_FACTOR\n",
    "dollar_low = np.e**upper * 1000 * SCALE_FACTOR\n",
    "\n",
    "# Round the dollar values to nearest thousand\n",
    "round_est = np.around(dollar_est,-3)\n",
    "round_hi = np.around(dollar_hi,-3)\n",
    "round_low = np.around(dollar_low,-3)\n",
    "\n",
    "\n",
    "print(f'The estimated property value is {round_est}')\n",
    "print(f'At {conf} % confidence the valuation range is')\n",
    "print(f'USD {round_hi} at the lower end to USD  {round_low } at the high end.')\n",
    " "
   ]
  },
  {
   "cell_type": "code",
   "execution_count": 191,
   "metadata": {},
   "outputs": [
    {
     "name": "stdout",
     "output_type": "stream",
     "text": [
      "Thats is unrealistic Try Again.\n"
     ]
    }
   ],
   "source": [
    "def get_dollar_value(rm,ptratio,chas=False,large_range=True):\n",
    "    \n",
    "    \"\"\" \n",
    "    Estimate the price of a property in boston.\n",
    "    Keywords argumenets:\n",
    "    \n",
    "    rm -- n umber of rooms in the property\n",
    "    ptratio -- number of students per teacher in the classroom for the schoolin the area\n",
    "    chas -- True if the property in next to chase rive, False Otherwise\n",
    "    large_range --  True for a 95 % prediction interval, False for a 68% interval\n",
    "    \n",
    "    \"\"\"\n",
    "    if rm < 1 or ptratio < 1:\n",
    "            print(f'Thats is unrealistic Try Again.')\n",
    "            return\n",
    "    \n",
    "    log_set,upper,lower,conf = get_log_estimate(rm,students_per_classroom = ptratio ,\n",
    "                                                next_to_river = chas,\n",
    "                                                high_confidence = large_range)\n",
    "\n",
    "    #Convert to todays dollar\n",
    "    dollar_est = np.e**log_set * 1000 * SCALE_FACTOR\n",
    "    dollar_hi = np.e**lower * 1000 * SCALE_FACTOR\n",
    "    dollar_low = np.e**upper * 1000 * SCALE_FACTOR\n",
    "\n",
    "    # Round the dollar values to nearest thousand\n",
    "    round_est = np.around(dollar_est,-3)\n",
    "    round_hi = np.around(dollar_hi,-3)\n",
    "    round_low = np.around(dollar_low,-3)\n",
    "\n",
    "\n",
    "    print(f'The estimated property value is {round_est}')\n",
    "    print(f'At {conf} % confidence the valuation range is')\n",
    "    print(f'USD {round_hi} at the lower end to USD  {round_low } at the high end.')\n",
    "\n",
    "get_dollar_value(rm=6,ptratio=0,chas=True) "
   ]
  },
  {
   "cell_type": "code",
   "execution_count": 195,
   "metadata": {},
   "outputs": [
    {
     "name": "stdout",
     "output_type": "stream",
     "text": [
      "The estimated property value is 700000.0\n",
      "At 95 % confidence the valuation range is\n",
      "USD 481000.0 at the lower end to USD  1018000.0 at the high end.\n"
     ]
    }
   ],
   "source": [
    "bv.get_dollar_value(rm=6,ptratio=15,chas=True) "
   ]
  },
  {
   "cell_type": "code",
   "execution_count": null,
   "metadata": {},
   "outputs": [],
   "source": []
  },
  {
   "cell_type": "code",
   "execution_count": null,
   "metadata": {},
   "outputs": [],
   "source": []
  },
  {
   "cell_type": "code",
   "execution_count": null,
   "metadata": {},
   "outputs": [],
   "source": []
  },
  {
   "cell_type": "code",
   "execution_count": null,
   "metadata": {},
   "outputs": [],
   "source": []
  },
  {
   "cell_type": "code",
   "execution_count": null,
   "metadata": {},
   "outputs": [],
   "source": []
  },
  {
   "cell_type": "code",
   "execution_count": null,
   "metadata": {},
   "outputs": [],
   "source": []
  },
  {
   "cell_type": "code",
   "execution_count": null,
   "metadata": {},
   "outputs": [],
   "source": []
  },
  {
   "cell_type": "code",
   "execution_count": null,
   "metadata": {},
   "outputs": [],
   "source": []
  },
  {
   "cell_type": "code",
   "execution_count": null,
   "metadata": {},
   "outputs": [],
   "source": []
  },
  {
   "cell_type": "code",
   "execution_count": null,
   "metadata": {},
   "outputs": [],
   "source": []
  }
 ],
 "metadata": {
  "kernelspec": {
   "display_name": "Python 3",
   "language": "python",
   "name": "python3"
  },
  "language_info": {
   "codemirror_mode": {
    "name": "ipython",
    "version": 3
   },
   "file_extension": ".py",
   "mimetype": "text/x-python",
   "name": "python",
   "nbconvert_exporter": "python",
   "pygments_lexer": "ipython3",
   "version": "3.7.0"
  }
 },
 "nbformat": 4,
 "nbformat_minor": 2
}
